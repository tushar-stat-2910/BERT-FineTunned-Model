{
 "cells": [
  {
   "cell_type": "code",
   "execution_count": null,
   "id": "c338682e",
   "metadata": {},
   "outputs": [],
   "source": [
    "import numpy as np\n",
    "import tensorflow as tf\n",
    "\n",
    "# Function to prepare the data for a batch of texts\n",
    "def prepare_data_batch(texts, tokenizer):\n",
    "    # Tokenize the batch of input texts\n",
    "    tokens = tokenizer(\n",
    "        texts,\n",
    "        max_length=512,\n",
    "        padding='max_length',\n",
    "        truncation=True,\n",
    "        return_tensors='tf'\n",
    "    )\n",
    "    return {\n",
    "        'input_ids': tf.cast(tokens['input_ids'], tf.float64),\n",
    "        'attention_mask': tf.cast(tokens['attention_mask'], tf.float64)\n",
    "    }\n",
    "\n",
    "# List of classes (decoding from one-hot encoding)\n",
    "classes = ohe.categories_[0].tolist()\n",
    "\n",
    "# Function to make predictions on processed batch data\n",
    "def make_predictions_batch(model, processed_data, classes=classes):\n",
    "    # **Model predicts on the entire batch, not single rows**.\n",
    "    probs = model.predict(processed_data)  # Now we get predictions for all samples in the batch\n",
    "    # **Return the predicted classes for each sample in the batch**.\n",
    "    return [classes[np.argmax(prob)] for prob in probs]\n",
    "\n",
    "# List of texts to make predictions on\n",
    "test_excert = test_data['cleaned_data'].to_list()\n",
    "\n",
    "# **Process data in batches for better performance**:\n",
    "batch_size = 32  # Adjust the batch size as needed for your system's memory\n",
    "predicted = []\n",
    "\n",
    "for i in range(0, len(test_excert), batch_size):\n",
    "    # **Prepare a batch of input texts** using the tokenizer\n",
    "    batch_texts = test_excert[i:i + batch_size]\n",
    "    processed_data = prepare_data_batch(batch_texts, tokenizer)\n",
    "    \n",
    "    # **Make predictions on the batch** using the model\n",
    "    batch_predictions = make_predictions_batch(NewsClassificationBERTModel, processed_data=processed_data)\n",
    "    \n",
    "    # Append the predictions for this batch\n",
    "    predicted.extend(batch_predictions)\n",
    "\n",
    "# Add predictions to the test_data DataFrame\n",
    "test_data['predicted'] = predicted\n"
   ]
  }
 ],
 "metadata": {
  "kernelspec": {
   "display_name": "Python 3 (ipykernel)",
   "language": "python",
   "name": "python3"
  },
  "language_info": {
   "codemirror_mode": {
    "name": "ipython",
    "version": 3
   },
   "file_extension": ".py",
   "mimetype": "text/x-python",
   "name": "python",
   "nbconvert_exporter": "python",
   "pygments_lexer": "ipython3",
   "version": "3.9.13"
  }
 },
 "nbformat": 4,
 "nbformat_minor": 5
}
